{
  "nbformat": 4,
  "nbformat_minor": 0,
  "metadata": {
    "colab": {
      "name": "fastText.ipynb",
      "provenance": [],
      "collapsed_sections": [],
      "include_colab_link": true
    },
    "kernelspec": {
      "name": "python3",
      "display_name": "Python 3"
    }
  },
  "cells": [
    {
      "cell_type": "markdown",
      "metadata": {
        "id": "view-in-github",
        "colab_type": "text"
      },
      "source": [
        "<a href=\"https://colab.research.google.com/github/q759729997/nlp_classification/blob/master/TNEWS_fastText.ipynb\" target=\"_parent\"><img src=\"https://colab.research.google.com/assets/colab-badge.svg\" alt=\"Open In Colab\"/></a>"
      ]
    },
    {
      "cell_type": "markdown",
      "metadata": {
        "id": "dumv5G22F5Pn",
        "colab_type": "text"
      },
      "source": [
        "fastText is a library for efficient learning of word representations and sentence classification."
      ]
    },
    {
      "cell_type": "markdown",
      "metadata": {
        "id": "TOEyzm9AGLsC",
        "colab_type": "text"
      },
      "source": [
        "安装软件包"
      ]
    },
    {
      "cell_type": "code",
      "metadata": {
        "id": "hfpz-yDMFrLA",
        "colab_type": "code",
        "outputId": "b1c1e66a-28f3-41a0-fdd5-7779706d6b48",
        "colab": {
          "base_uri": "https://localhost:8080/",
          "height": 84
        }
      },
      "source": [
        "! pip install fasttext"
      ],
      "execution_count": 7,
      "outputs": [
        {
          "output_type": "stream",
          "text": [
            "Requirement already satisfied: fasttext in /usr/local/lib/python3.6/dist-packages (0.9.1)\n",
            "Requirement already satisfied: setuptools>=0.7.0 in /usr/local/lib/python3.6/dist-packages (from fasttext) (41.4.0)\n",
            "Requirement already satisfied: numpy in /usr/local/lib/python3.6/dist-packages (from fasttext) (1.17.3)\n",
            "Requirement already satisfied: pybind11>=2.2 in /usr/local/lib/python3.6/dist-packages (from fasttext) (2.4.3)\n"
          ],
          "name": "stdout"
        }
      ]
    },
    {
      "cell_type": "code",
      "metadata": {
        "id": "fMgkkaYXS9C9",
        "colab_type": "code",
        "colab": {}
      },
      "source": [
        "# fasttext训练\n",
        "# 参考：https://github.com/facebookresearch/fastText/tree/master/python\n",
        "# 参考：https://pypi.org/project/fasttext/\n",
        "# label prefix ['__label__']，标签与文本使用\\t分割"
      ],
      "execution_count": 0,
      "outputs": []
    },
    {
      "cell_type": "markdown",
      "metadata": {
        "id": "EwoCqMIHGdyK",
        "colab_type": "text"
      },
      "source": [
        "读取数据"
      ]
    },
    {
      "cell_type": "code",
      "metadata": {
        "id": "bbWPo6-oGixM",
        "colab_type": "code",
        "colab": {}
      },
      "source": [
        "import pandas as pd\n",
        "import random"
      ],
      "execution_count": 0,
      "outputs": []
    },
    {
      "cell_type": "code",
      "metadata": {
        "id": "n5GVVR_AGrpz",
        "colab_type": "code",
        "outputId": "1c8555d9-826e-4209-d7e5-15aaf9fbb73c",
        "colab": {
          "base_uri": "https://localhost:8080/",
          "height": 121
        }
      },
      "source": [
        "# 连接云盘\n",
        "from google.colab import drive\n",
        "drive.mount('/content/drive')"
      ],
      "execution_count": 9,
      "outputs": [
        {
          "output_type": "stream",
          "text": [
            "Go to this URL in a browser: https://accounts.google.com/o/oauth2/auth?client_id=947318989803-6bn6qk8qdgf4n4g3pfee6491hc0brc4i.apps.googleusercontent.com&redirect_uri=urn%3Aietf%3Awg%3Aoauth%3A2.0%3Aoob&scope=email%20https%3A%2F%2Fwww.googleapis.com%2Fauth%2Fdocs.test%20https%3A%2F%2Fwww.googleapis.com%2Fauth%2Fdrive%20https%3A%2F%2Fwww.googleapis.com%2Fauth%2Fdrive.photos.readonly%20https%3A%2F%2Fwww.googleapis.com%2Fauth%2Fpeopleapi.readonly&response_type=code\n",
            "\n",
            "Enter your authorization code:\n",
            "··········\n",
            "Mounted at /content/drive\n"
          ],
          "name": "stdout"
        }
      ]
    },
    {
      "cell_type": "code",
      "metadata": {
        "id": "vcVIYKNTNgbc",
        "colab_type": "code",
        "colab": {}
      },
      "source": [
        "df = pd.read_csv('/content/drive/My Drive/data/chineseGLUE/toutiao_category.csv')"
      ],
      "execution_count": 0,
      "outputs": []
    },
    {
      "cell_type": "code",
      "metadata": {
        "id": "63e-Ot2LNzbu",
        "colab_type": "code",
        "colab": {
          "base_uri": "https://localhost:8080/",
          "height": 229
        },
        "outputId": "afbf5f3d-fff3-438b-f4e6-1ca141857834"
      },
      "source": [
        "df.head()"
      ],
      "execution_count": 11,
      "outputs": [
        {
          "output_type": "execute_result",
          "data": {
            "text/html": [
              "<div>\n",
              "<style scoped>\n",
              "    .dataframe tbody tr th:only-of-type {\n",
              "        vertical-align: middle;\n",
              "    }\n",
              "\n",
              "    .dataframe tbody tr th {\n",
              "        vertical-align: top;\n",
              "    }\n",
              "\n",
              "    .dataframe thead th {\n",
              "        text-align: right;\n",
              "    }\n",
              "</style>\n",
              "<table border=\"1\" class=\"dataframe\">\n",
              "  <thead>\n",
              "    <tr style=\"text-align: right;\">\n",
              "      <th></th>\n",
              "      <th>data_type</th>\n",
              "      <th>news_id</th>\n",
              "      <th>category_code</th>\n",
              "      <th>category</th>\n",
              "      <th>title</th>\n",
              "      <th>keywords</th>\n",
              "    </tr>\n",
              "  </thead>\n",
              "  <tbody>\n",
              "    <tr>\n",
              "      <th>0</th>\n",
              "      <td>dev</td>\n",
              "      <td>6552414358800957966</td>\n",
              "      <td>116</td>\n",
              "      <td>news_game</td>\n",
              "      <td>DNF：日常搬砖第32天，头条原创申请再次失败，卢克材料满100</td>\n",
              "      <td>搬砖,格蓝迪,dnf,游戏,卢克</td>\n",
              "    </tr>\n",
              "    <tr>\n",
              "      <th>1</th>\n",
              "      <td>dev</td>\n",
              "      <td>6553534223167258884</td>\n",
              "      <td>103</td>\n",
              "      <td>news_sports</td>\n",
              "      <td>如果詹姆斯最巅峰的时候出现了，杜兰特是否能够顶得住压力呢？</td>\n",
              "      <td>NaN</td>\n",
              "    </tr>\n",
              "    <tr>\n",
              "      <th>2</th>\n",
              "      <td>dev</td>\n",
              "      <td>6554376403674989070</td>\n",
              "      <td>104</td>\n",
              "      <td>news_finance</td>\n",
              "      <td>「大赛」节前埋伏高送转 坚定持有守得反包涨停！</td>\n",
              "      <td>选手本周,上证综指,周收益</td>\n",
              "    </tr>\n",
              "    <tr>\n",
              "      <th>3</th>\n",
              "      <td>dev</td>\n",
              "      <td>6553464292841095688</td>\n",
              "      <td>102</td>\n",
              "      <td>news_entertainment</td>\n",
              "      <td>盘点开演唱会被罚的歌手，五月天罚170万，被罚次数最多的是他</td>\n",
              "      <td>周杰伦,陈奕迅,梁静茹,七里香,五月天,张学友</td>\n",
              "    </tr>\n",
              "    <tr>\n",
              "      <th>4</th>\n",
              "      <td>dev</td>\n",
              "      <td>6554467498236838147</td>\n",
              "      <td>109</td>\n",
              "      <td>news_tech</td>\n",
              "      <td>联想把5G关键票投给了高通，掀起全国的舆论风暴，企业有权利按照自己意愿决择吗？</td>\n",
              "      <td>NaN</td>\n",
              "    </tr>\n",
              "  </tbody>\n",
              "</table>\n",
              "</div>"
            ],
            "text/plain": [
              "  data_type  ...                 keywords\n",
              "0       dev  ...         搬砖,格蓝迪,dnf,游戏,卢克\n",
              "1       dev  ...                      NaN\n",
              "2       dev  ...            选手本周,上证综指,周收益\n",
              "3       dev  ...  周杰伦,陈奕迅,梁静茹,七里香,五月天,张学友\n",
              "4       dev  ...                      NaN\n",
              "\n",
              "[5 rows x 6 columns]"
            ]
          },
          "metadata": {
            "tags": []
          },
          "execution_count": 11
        }
      ]
    },
    {
      "cell_type": "code",
      "metadata": {
        "id": "Hpu2-LUQN34i",
        "colab_type": "code",
        "colab": {
          "base_uri": "https://localhost:8080/",
          "height": 229
        },
        "outputId": "971422ef-063b-4c25-e95c-51a1137788b1"
      },
      "source": [
        "# 空数据处理\n",
        "df = df.fillna('')\n",
        "df.head()"
      ],
      "execution_count": 12,
      "outputs": [
        {
          "output_type": "execute_result",
          "data": {
            "text/html": [
              "<div>\n",
              "<style scoped>\n",
              "    .dataframe tbody tr th:only-of-type {\n",
              "        vertical-align: middle;\n",
              "    }\n",
              "\n",
              "    .dataframe tbody tr th {\n",
              "        vertical-align: top;\n",
              "    }\n",
              "\n",
              "    .dataframe thead th {\n",
              "        text-align: right;\n",
              "    }\n",
              "</style>\n",
              "<table border=\"1\" class=\"dataframe\">\n",
              "  <thead>\n",
              "    <tr style=\"text-align: right;\">\n",
              "      <th></th>\n",
              "      <th>data_type</th>\n",
              "      <th>news_id</th>\n",
              "      <th>category_code</th>\n",
              "      <th>category</th>\n",
              "      <th>title</th>\n",
              "      <th>keywords</th>\n",
              "    </tr>\n",
              "  </thead>\n",
              "  <tbody>\n",
              "    <tr>\n",
              "      <th>0</th>\n",
              "      <td>dev</td>\n",
              "      <td>6552414358800957966</td>\n",
              "      <td>116</td>\n",
              "      <td>news_game</td>\n",
              "      <td>DNF：日常搬砖第32天，头条原创申请再次失败，卢克材料满100</td>\n",
              "      <td>搬砖,格蓝迪,dnf,游戏,卢克</td>\n",
              "    </tr>\n",
              "    <tr>\n",
              "      <th>1</th>\n",
              "      <td>dev</td>\n",
              "      <td>6553534223167258884</td>\n",
              "      <td>103</td>\n",
              "      <td>news_sports</td>\n",
              "      <td>如果詹姆斯最巅峰的时候出现了，杜兰特是否能够顶得住压力呢？</td>\n",
              "      <td></td>\n",
              "    </tr>\n",
              "    <tr>\n",
              "      <th>2</th>\n",
              "      <td>dev</td>\n",
              "      <td>6554376403674989070</td>\n",
              "      <td>104</td>\n",
              "      <td>news_finance</td>\n",
              "      <td>「大赛」节前埋伏高送转 坚定持有守得反包涨停！</td>\n",
              "      <td>选手本周,上证综指,周收益</td>\n",
              "    </tr>\n",
              "    <tr>\n",
              "      <th>3</th>\n",
              "      <td>dev</td>\n",
              "      <td>6553464292841095688</td>\n",
              "      <td>102</td>\n",
              "      <td>news_entertainment</td>\n",
              "      <td>盘点开演唱会被罚的歌手，五月天罚170万，被罚次数最多的是他</td>\n",
              "      <td>周杰伦,陈奕迅,梁静茹,七里香,五月天,张学友</td>\n",
              "    </tr>\n",
              "    <tr>\n",
              "      <th>4</th>\n",
              "      <td>dev</td>\n",
              "      <td>6554467498236838147</td>\n",
              "      <td>109</td>\n",
              "      <td>news_tech</td>\n",
              "      <td>联想把5G关键票投给了高通，掀起全国的舆论风暴，企业有权利按照自己意愿决择吗？</td>\n",
              "      <td></td>\n",
              "    </tr>\n",
              "  </tbody>\n",
              "</table>\n",
              "</div>"
            ],
            "text/plain": [
              "  data_type  ...                 keywords\n",
              "0       dev  ...         搬砖,格蓝迪,dnf,游戏,卢克\n",
              "1       dev  ...                         \n",
              "2       dev  ...            选手本周,上证综指,周收益\n",
              "3       dev  ...  周杰伦,陈奕迅,梁静茹,七里香,五月天,张学友\n",
              "4       dev  ...                         \n",
              "\n",
              "[5 rows x 6 columns]"
            ]
          },
          "metadata": {
            "tags": []
          },
          "execution_count": 12
        }
      ]
    },
    {
      "cell_type": "code",
      "metadata": {
        "id": "qLiQ6-OgOB9F",
        "colab_type": "code",
        "colab": {
          "base_uri": "https://localhost:8080/",
          "height": 202
        },
        "outputId": "3a13bdab-d57a-490c-9258-0855156aa9f0"
      },
      "source": [
        "df.info()"
      ],
      "execution_count": 13,
      "outputs": [
        {
          "output_type": "stream",
          "text": [
            "<class 'pandas.core.frame.DataFrame'>\n",
            "RangeIndex: 382688 entries, 0 to 382687\n",
            "Data columns (total 6 columns):\n",
            "data_type        382688 non-null object\n",
            "news_id          382688 non-null int64\n",
            "category_code    382688 non-null int64\n",
            "category         382688 non-null object\n",
            "title            382688 non-null object\n",
            "keywords         382688 non-null object\n",
            "dtypes: int64(2), object(4)\n",
            "memory usage: 17.5+ MB\n"
          ],
          "name": "stdout"
        }
      ]
    },
    {
      "cell_type": "code",
      "metadata": {
        "id": "fSBAU3woOExv",
        "colab_type": "code",
        "colab": {
          "base_uri": "https://localhost:8080/",
          "height": 17
        },
        "outputId": "0f46c0c6-33e8-410d-bcd3-f9651515c867"
      },
      "source": [
        "# fasttext数据组装\n",
        "train_data = list()\n",
        "test_data = list()\n",
        "line_count = len(df)\n",
        "for i in range(line_count):\n",
        "  if i % 10000 == 0:\n",
        "    print('当前：{}，合计：{}'.format(i, line_count), end='\\r')\n",
        "  data_type = df.iloc[i]['data_type']\n",
        "  category = df.iloc[i]['category']\n",
        "  title = df.iloc[i]['title']\n",
        "  keywords = df.iloc[i]['keywords']\n",
        "  text = '{}{}'.format(title, keywords).replace('\\t', '').strip()\n",
        "  if len(text) < 2 or len(category) < 1:\n",
        "    continue\n",
        "  label = '__label__{}'.format(category)  # label prefix ['__label__']\n",
        "  if data_type == 'test':\n",
        "    test_data.append((label, text))\n",
        "  else:\n",
        "    train_data.append((label, text))"
      ],
      "execution_count": 27,
      "outputs": [
        {
          "output_type": "stream",
          "text": [
            ""
          ],
          "name": "stdout"
        }
      ]
    },
    {
      "cell_type": "code",
      "metadata": {
        "id": "sdgTFcoQQcWa",
        "colab_type": "code",
        "colab": {
          "base_uri": "https://localhost:8080/",
          "height": 50
        },
        "outputId": "03fe1d09-a112-4ba0-c145-0c94fa7c5e59"
      },
      "source": [
        "print(len(train_data))\n",
        "print(len(test_data))"
      ],
      "execution_count": 28,
      "outputs": [
        {
          "output_type": "stream",
          "text": [
            "325284\n",
            "57404\n"
          ],
          "name": "stdout"
        }
      ]
    },
    {
      "cell_type": "code",
      "metadata": {
        "id": "3ylGu6ieQcnK",
        "colab_type": "code",
        "colab": {
          "base_uri": "https://localhost:8080/",
          "height": 70
        },
        "outputId": "7033550b-0b0c-47a6-d7b6-9641b23f4cd6"
      },
      "source": [
        "print(train_data[:2])\n",
        "print(test_data[:2])"
      ],
      "execution_count": 29,
      "outputs": [
        {
          "output_type": "stream",
          "text": [
            "[('__label__news_game', 'DNF：日常搬砖第32天，头条原创申请再次失败，卢克材料满100搬砖,格蓝迪,dnf,游戏,卢克'), ('__label__news_sports', '如果詹姆斯最巅峰的时候出现了，杜兰特是否能够顶得住压力呢？')]\n",
            "[('__label__news_military', '歼20座舱盖上的两条“花纹”是什么？'), ('__label__news_edu', '2018年2月退休教师，教龄38年，退休金是多少？')]\n"
          ],
          "name": "stdout"
        }
      ]
    },
    {
      "cell_type": "code",
      "metadata": {
        "id": "7RFjrBPNSPaz",
        "colab_type": "code",
        "colab": {}
      },
      "source": [
        "import codecs\n",
        "# 数据写入文件\n",
        "train_file = '/content/sample_data/toutiao_train_ft.txt'\n",
        "with codecs.open(train_file, mode='w', encoding='utf8') as fw:\n",
        "  for label, text in train_data:\n",
        "    # line = '{}\\t{}'.format(label, text)\n",
        "    line = '{}\\t{}'.format(label, ' '.join(list(text)))  # 使用单个字作为输入\n",
        "    fw.write('{}\\n'.format(line))\n",
        "test_file = '/content/sample_data/toutiao_test_ft.txt'\n",
        "with codecs.open(test_file, mode='w', encoding='utf8') as fw:\n",
        "  for label, text in test_data:\n",
        "    # line = '{}\\t{}'.format(label, text)\n",
        "    line = '{}\\t{}'.format(label, ' '.join(list(text)))  # 使用单个字作为输入\n",
        "    fw.write('{}\\n'.format(line))"
      ],
      "execution_count": 0,
      "outputs": []
    },
    {
      "cell_type": "code",
      "metadata": {
        "id": "1_32yI3XWxOv",
        "colab_type": "code",
        "colab": {
          "base_uri": "https://localhost:8080/",
          "height": 121
        },
        "outputId": "2e83f092-67de-49f2-9412-050b028b6bb5"
      },
      "source": [
        "! head -5 /content/sample_data/toutiao_test_ft.txt"
      ],
      "execution_count": 43,
      "outputs": [
        {
          "output_type": "stream",
          "text": [
            "__label__news_military\t歼 2 0 座 舱 盖 上 的 两 条 “ 花 纹 ” 是 什 么 ？\n",
            "__label__news_edu\t2 0 1 8 年 2 月 退 休 教 师 ， 教 龄 3 8 年 ， 退 休 金 是 多 少 ？\n",
            "__label__news_military\t第 8 1 集 团 军 某 旅 首 长 机 关 军 事 训 练 考 核 见 闻 军 事 训 练 , 2 0 1 8 年 度 军 事 训 练 工 作 指 示 , 首 长 , 风 雨 交 加 , 机 关 干 部 , 集 团 军\n",
            "__label__news_military\t王 阳 明 思 想 为 什 么 没 能 挽 救 大 明 王 朝 ？\n",
            "__label__news_travel\t一 生 中 一 定 要 去 的 八 个 地 方 ， 趁 着 年 轻 赶 紧 出 发 吧 茶 卡 盐 湖 , 泸 沽 湖 , 布 拉 格 , 圣 托 里 尼 , 圣 托 里 尼 岛\n"
          ],
          "name": "stdout"
        }
      ]
    },
    {
      "cell_type": "code",
      "metadata": {
        "id": "URlVXaDkTFsZ",
        "colab_type": "code",
        "colab": {}
      },
      "source": [
        "import fasttext"
      ],
      "execution_count": 0,
      "outputs": []
    },
    {
      "cell_type": "code",
      "metadata": {
        "id": "NceS753UT27V",
        "colab_type": "code",
        "colab": {}
      },
      "source": [
        "def print_results(N, p, r):\n",
        "  print(\"N\\t\" + str(N))\n",
        "  print(\"P@{}\\t{:.3f}\".format(1, p))\n",
        "  print(\"R@{}\\t{:.3f}\".format(1, r))"
      ],
      "execution_count": 0,
      "outputs": []
    },
    {
      "cell_type": "code",
      "metadata": {
        "id": "WpsmI_wsTIsM",
        "colab_type": "code",
        "colab": {
          "base_uri": "https://localhost:8080/",
          "height": 67
        },
        "outputId": "afe5e434-7281-4a90-e439-0b454bb773aa"
      },
      "source": [
        "# model = fasttext.train_supervised(input=train_file)\n",
        "# model = fasttext.train_supervised(input=train_file, wordNgrams=2)\n",
        "model = fasttext.train_supervised(input=train_file, wordNgrams=3)\n",
        "print_results(*model.test(test_file))"
      ],
      "execution_count": 49,
      "outputs": [
        {
          "output_type": "stream",
          "text": [
            "N\t57404\n",
            "P@1\t0.905\n",
            "R@1\t0.905\n"
          ],
          "name": "stdout"
        }
      ]
    },
    {
      "cell_type": "markdown",
      "metadata": {
        "id": "5J0TFTDFUkvz",
        "colab_type": "text"
      },
      "source": [
        "- 纯文本，未加分隔符，未分词\n",
        "~~~\n",
        "N\t57404\n",
        "P@1\t0.348\n",
        "R@1\t0.348\n",
        "~~~\n",
        "- 单个字作为输入特征\n",
        "~~~\n",
        "N\t57404\n",
        "P@1\t0.859\n",
        "R@1\t0.859\n",
        "~~~\n",
        "- 单个字作为输入特征,wordNgrams=2\n",
        "~~~\n",
        "N\t57404\n",
        "P@1\t0.903\n",
        "R@1\t0.903\n",
        "~~~"
      ]
    },
    {
      "cell_type": "code",
      "metadata": {
        "id": "QbL38BO2TV8F",
        "colab_type": "code",
        "colab": {
          "base_uri": "https://localhost:8080/",
          "height": 34
        },
        "outputId": "2f21e350-bdef-40eb-89cf-f569feb86d3e"
      },
      "source": [
        "# 预测测试\n",
        "model.predict(\"一起看周杰伦的演唱会\")"
      ],
      "execution_count": 45,
      "outputs": [
        {
          "output_type": "execute_result",
          "data": {
            "text/plain": [
              "(('__label__news_travel',), array([0.99733239]))"
            ]
          },
          "metadata": {
            "tags": []
          },
          "execution_count": 45
        }
      ]
    },
    {
      "cell_type": "code",
      "metadata": {
        "id": "sHlYBk8BXz7a",
        "colab_type": "code",
        "colab": {
          "base_uri": "https://localhost:8080/",
          "height": 34
        },
        "outputId": "2147a3d1-0f3d-4e2e-df81-51242b4ded47"
      },
      "source": [
        "# 预测测试\n",
        "model.predict(' '.join(list(\"一起看周杰伦的演唱会\")))"
      ],
      "execution_count": 48,
      "outputs": [
        {
          "output_type": "execute_result",
          "data": {
            "text/plain": [
              "(('__label__news_entertainment',), array([1.00000453]))"
            ]
          },
          "metadata": {
            "tags": []
          },
          "execution_count": 48
        }
      ]
    },
    {
      "cell_type": "code",
      "metadata": {
        "id": "4XvjChZWTgAP",
        "colab_type": "code",
        "colab": {}
      },
      "source": [
        "# 模型保存\n",
        "model.save_model(\"/content/sample_data/toutiao_ft.ftz\")"
      ],
      "execution_count": 0,
      "outputs": []
    }
  ]
}
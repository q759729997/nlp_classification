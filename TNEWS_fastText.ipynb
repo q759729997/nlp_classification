{
  "nbformat": 4,
  "nbformat_minor": 0,
  "metadata": {
    "colab": {
      "name": "TNEWS_fastText.ipynb",
      "provenance": [],
      "collapsed_sections": [],
      "include_colab_link": true
    },
    "kernelspec": {
      "display_name": "Python 3",
      "language": "python",
      "name": "python3"
    },
    "language_info": {
      "codemirror_mode": {
        "name": "ipython",
        "version": 3
      },
      "file_extension": ".py",
      "mimetype": "text/x-python",
      "name": "python",
      "nbconvert_exporter": "python",
      "pygments_lexer": "ipython3",
      "version": "3.6.9"
    }
  },
  "cells": [
    {
      "cell_type": "markdown",
      "metadata": {
        "id": "view-in-github",
        "colab_type": "text"
      },
      "source": [
        "<a href=\"https://colab.research.google.com/github/q759729997/nlp_classification/blob/master/TNEWS_fastText.ipynb\" target=\"_parent\"><img src=\"https://colab.research.google.com/assets/colab-badge.svg\" alt=\"Open In Colab\"/></a>"
      ]
    },
    {
      "cell_type": "markdown",
      "metadata": {
        "colab_type": "text",
        "id": "dumv5G22F5Pn"
      },
      "source": [
        "fastText is a library for efficient learning of word representations and sentence classification."
      ]
    },
    {
      "cell_type": "markdown",
      "metadata": {
        "colab_type": "text",
        "id": "TOEyzm9AGLsC"
      },
      "source": [
        "安装软件包"
      ]
    },
    {
      "cell_type": "code",
      "metadata": {
        "colab_type": "code",
        "id": "hfpz-yDMFrLA",
        "outputId": "1e6d4c55-0be7-4a63-ab10-921c2fd7b120",
        "colab": {
          "base_uri": "https://localhost:8080/",
          "height": 255
        }
      },
      "source": [
        "! pip install fasttext"
      ],
      "execution_count": 13,
      "outputs": [
        {
          "output_type": "stream",
          "text": [
            "Collecting fasttext\n",
            "\u001b[?25l  Downloading https://files.pythonhosted.org/packages/10/61/2e01f1397ec533756c1d893c22d9d5ed3fce3a6e4af1976e0d86bb13ea97/fasttext-0.9.1.tar.gz (57kB)\n",
            "\r\u001b[K     |█████▊                          | 10kB 13.5MB/s eta 0:00:01\r\u001b[K     |███████████▍                    | 20kB 3.4MB/s eta 0:00:01\r\u001b[K     |█████████████████               | 30kB 4.8MB/s eta 0:00:01\r\u001b[K     |██████████████████████▊         | 40kB 3.1MB/s eta 0:00:01\r\u001b[K     |████████████████████████████▍   | 51kB 3.8MB/s eta 0:00:01\r\u001b[K     |████████████████████████████████| 61kB 2.7MB/s \n",
            "\u001b[?25hRequirement already satisfied: pybind11>=2.2 in /usr/local/lib/python3.6/dist-packages (from fasttext) (2.4.3)\n",
            "Requirement already satisfied: setuptools>=0.7.0 in /usr/local/lib/python3.6/dist-packages (from fasttext) (41.4.0)\n",
            "Requirement already satisfied: numpy in /usr/local/lib/python3.6/dist-packages (from fasttext) (1.17.3)\n",
            "Building wheels for collected packages: fasttext\n",
            "  Building wheel for fasttext (setup.py) ... \u001b[?25l\u001b[?25hdone\n",
            "  Created wheel for fasttext: filename=fasttext-0.9.1-cp36-cp36m-linux_x86_64.whl size=2388660 sha256=e1b1b85b8c6f0adf908c763effda3cdf8c8e6da37d798557487859a887752192\n",
            "  Stored in directory: /root/.cache/pip/wheels/9f/f0/04/caa82c912aee89ce76358ff954f3f0729b7577c8ff23a292e3\n",
            "Successfully built fasttext\n",
            "Installing collected packages: fasttext\n",
            "Successfully installed fasttext-0.9.1\n"
          ],
          "name": "stdout"
        }
      ]
    },
    {
      "cell_type": "code",
      "metadata": {
        "id": "G7JWg0eNeh-4",
        "colab_type": "code",
        "colab": {
          "base_uri": "https://localhost:8080/",
          "height": 34
        },
        "outputId": "40976b90-563f-47e8-87bb-2f8178a7a1eb"
      },
      "source": [
        "! pip install jieba"
      ],
      "execution_count": 19,
      "outputs": [
        {
          "output_type": "stream",
          "text": [
            "Requirement already satisfied: jieba in /usr/local/lib/python3.6/dist-packages (0.39)\n"
          ],
          "name": "stdout"
        }
      ]
    },
    {
      "cell_type": "code",
      "metadata": {
        "colab_type": "code",
        "id": "fMgkkaYXS9C9",
        "colab": {}
      },
      "source": [
        "- fasttext训练\n",
        "- 参考：https://github.com/facebookresearch/fastText/tree/master/python\n",
        "- 参考：https://pypi.org/project/fasttext/\n",
        "- label prefix ['__label__']，标签与文本使用\\t分割"
      ],
      "execution_count": 0,
      "outputs": []
    },
    {
      "cell_type": "markdown",
      "metadata": {
        "colab_type": "text",
        "id": "EwoCqMIHGdyK"
      },
      "source": [
        "读取数据"
      ]
    },
    {
      "cell_type": "code",
      "metadata": {
        "id": "T_p_D4SActId",
        "colab_type": "code",
        "colab": {
          "base_uri": "https://localhost:8080/",
          "height": 121
        },
        "outputId": "1a8ddd02-6b59-4ee5-93bd-dfe9a1b6dbe2"
      },
      "source": [
        "from google.colab import drive\n",
        "drive.mount('/content/drive')"
      ],
      "execution_count": 1,
      "outputs": [
        {
          "output_type": "stream",
          "text": [
            "Go to this URL in a browser: https://accounts.google.com/o/oauth2/auth?client_id=947318989803-6bn6qk8qdgf4n4g3pfee6491hc0brc4i.apps.googleusercontent.com&redirect_uri=urn%3Aietf%3Awg%3Aoauth%3A2.0%3Aoob&scope=email%20https%3A%2F%2Fwww.googleapis.com%2Fauth%2Fdocs.test%20https%3A%2F%2Fwww.googleapis.com%2Fauth%2Fdrive%20https%3A%2F%2Fwww.googleapis.com%2Fauth%2Fdrive.photos.readonly%20https%3A%2F%2Fwww.googleapis.com%2Fauth%2Fpeopleapi.readonly&response_type=code\n",
            "\n",
            "Enter your authorization code:\n",
            "··········\n",
            "Mounted at /content/drive\n"
          ],
          "name": "stdout"
        }
      ]
    },
    {
      "cell_type": "code",
      "metadata": {
        "colab_type": "code",
        "id": "bbWPo6-oGixM",
        "colab": {}
      },
      "source": [
        "import codecs\n",
        "import random"
      ],
      "execution_count": 0,
      "outputs": []
    },
    {
      "cell_type": "code",
      "metadata": {
        "colab_type": "code",
        "id": "n5GVVR_AGrpz",
        "colab": {}
      },
      "source": [
        "def read_file_texts(file_name):\n",
        "    \"读取文件内容\"\"\"\n",
        "    with codecs.open(file_name, mode='r', encoding='utf8') as fread:\n",
        "        texts = list()\n",
        "        for line in fread:\n",
        "            line = line.strip()\n",
        "            if len(line) > 0:\n",
        "                texts.append(line)\n",
        "        return texts"
      ],
      "execution_count": 0,
      "outputs": []
    },
    {
      "cell_type": "code",
      "metadata": {
        "colab_type": "code",
        "id": "vcVIYKNTNgbc",
        "colab": {
          "base_uri": "https://localhost:8080/",
          "height": 138
        },
        "outputId": "436bf002-8ad1-458b-fc4d-1f3118e84ba7"
      },
      "source": [
        "file_path = '/content/drive/My Drive/data/chineseGLUE/'\n",
        "train_texts = read_file_texts(file_path + 'toutiao_category_train_v1.txt')\n",
        "dev_texts = read_file_texts(file_path + 'toutiao_category_dev_v1.txt')\n",
        "test_texts = read_file_texts(file_path + 'toutiao_category_test_v1.txt')\n",
        "print('train_texts len:{}'.format(len(train_texts)))\n",
        "print('train_texts example:{}'.format(train_texts[1]))\n",
        "print('dev_texts len:{}'.format(len(dev_texts)))\n",
        "print('dev_texts example:{}'.format(dev_texts[1]))\n",
        "print('test_texts len:{}'.format(len(test_texts)))\n",
        "print('test_texts example:{}'.format(test_texts[1]))"
      ],
      "execution_count": 23,
      "outputs": [
        {
          "output_type": "stream",
          "text": [
            "train_texts len:267881\n",
            "train_texts example:news_entertainment\t他是最帅的古装男神，10国语言六门武术，演技在线却常演配角！三生三世十里桃花,张智尧,杨门女将之女儿当自强,陆小凤,印象深刻,陆小凤传奇,杨宗保,花满楼,古剑奇谭\n",
            "dev_texts len:57403\n",
            "dev_texts example:news_sports\t如果詹姆斯最巅峰的时候出现了，杜兰特是否能够顶得住压力呢？\n",
            "test_texts len:57404\n",
            "test_texts example:news_edu\t2018年2月退休教师，教龄38年，退休金是多少？\n"
          ],
          "name": "stdout"
        }
      ]
    },
    {
      "cell_type": "code",
      "metadata": {
        "colab_type": "code",
        "id": "63e-Ot2LNzbu",
        "colab": {}
      },
      "source": [
        "def convert_to_ft_train_data(texts):\n",
        "    \"\"\"转换为fasttext训练所需数据格式\"\"\"\n",
        "    ft_texts = list()\n",
        "    for text in texts:\n",
        "        label, feature = text.split('\\t')\n",
        "        # 分词，使用单个字符\n",
        "        tokens = list(feature.replace('\\t', ''))\n",
        "        # 组装数据\n",
        "        ft_texts.append('__label__{}\\t{}'.format(label, ' '.join(tokens)))\n",
        "    return ft_texts"
      ],
      "execution_count": 0,
      "outputs": []
    },
    {
      "cell_type": "code",
      "metadata": {
        "id": "zjQNQcqYexR3",
        "colab_type": "code",
        "colab": {}
      },
      "source": [
        "import jieba"
      ],
      "execution_count": 0,
      "outputs": []
    },
    {
      "cell_type": "code",
      "metadata": {
        "id": "DXHwR9o5eoEQ",
        "colab_type": "code",
        "colab": {}
      },
      "source": [
        "def convert_to_ft_train_data(texts):\n",
        "    \"\"\"转换为fasttext训练所需数据格式\"\"\"\n",
        "    ft_texts = list()\n",
        "    for text in texts:\n",
        "        label, feature = text.split('\\t')\n",
        "        # jieba分词\n",
        "        tokens = jieba.cut(feature.replace('\\t', ''))\n",
        "        # 组装数据\n",
        "        ft_texts.append('__label__{}\\t{}'.format(label, ' '.join(tokens)))\n",
        "    return ft_texts"
      ],
      "execution_count": 0,
      "outputs": []
    },
    {
      "cell_type": "code",
      "metadata": {
        "colab_type": "code",
        "id": "Hpu2-LUQN34i",
        "outputId": "a729dc1b-93a0-49f5-c1ba-3f4e79601d80",
        "colab": {
          "base_uri": "https://localhost:8080/",
          "height": 238
        }
      },
      "source": [
        "train_data = convert_to_ft_train_data(train_texts)\n",
        "train_data.extend(convert_to_ft_train_data(dev_texts))\n",
        "test_data = convert_to_ft_train_data(test_texts)\n",
        "print('train_data len:{}'.format(len(train_data)))\n",
        "print('train_data example:{}'.format(train_data[1]))\n",
        "print('test_data len:{}'.format(len(test_data)))\n",
        "print('test_data example:{}'.format(test_data[1]))"
      ],
      "execution_count": 25,
      "outputs": [
        {
          "output_type": "stream",
          "text": [
            "Building prefix dict from the default dictionary ...\n",
            "2019-11-01 15:01:23,426 : DEBUG : Building prefix dict from the default dictionary ...\n",
            "Dumping model to file cache /tmp/jieba.cache\n",
            "2019-11-01 15:01:24,433 : DEBUG : Dumping model to file cache /tmp/jieba.cache\n",
            "Loading model cost 1.090 seconds.\n",
            "2019-11-01 15:01:24,522 : DEBUG : Loading model cost 1.090 seconds.\n",
            "Prefix dict has been built succesfully.\n",
            "2019-11-01 15:01:24,524 : DEBUG : Prefix dict has been built succesfully.\n"
          ],
          "name": "stderr"
        },
        {
          "output_type": "stream",
          "text": [
            "train_data len:325284\n",
            "train_data example:__label__news_entertainment\t他 是 最帅 的 古装 男神 ， 10 国 语言 六门 武术 ， 演技 在线 却常演 配角 ！ 三生 三世 十里 桃花 , 张智尧 , 杨门 女将 之 女儿 当自强 , 陆小凤 , 印象 深刻 , 陆小凤 传奇 , 杨宗保 , 花满楼 , 古剑 奇谭\n",
            "test_data len:57404\n",
            "test_data example:__label__news_edu\t2018 年 2 月 退休 教师 ， 教龄 38 年 ， 退休金 是 多少 ？\n"
          ],
          "name": "stdout"
        }
      ]
    },
    {
      "cell_type": "code",
      "metadata": {
        "colab_type": "code",
        "id": "qLiQ6-OgOB9F",
        "colab": {}
      },
      "source": [
        "def output_ft_train_data(file_name, texts):\n",
        "    \"\"\"输出fasttext训练文件\"\"\"\n",
        "    with codecs.open(file_name, mode='w', encoding='utf8') as fw:\n",
        "        for text in texts:\n",
        "            fw.write('{}\\n'.format(text))"
      ],
      "execution_count": 0,
      "outputs": []
    },
    {
      "cell_type": "code",
      "metadata": {
        "colab_type": "code",
        "id": "fSBAU3woOExv",
        "colab": {}
      },
      "source": [
        "file_path = '/content/sample_data/'\n",
        "train_data_file = file_path + 'toutiao_train_ft_chars.txt'\n",
        "test_data_file = file_path + 'toutiao_test_ft_chars.txt'\n",
        "train_texts = output_ft_train_data(train_data_file, train_data)\n",
        "dev_texts = output_ft_train_data(test_data_file, test_data)"
      ],
      "execution_count": 0,
      "outputs": []
    },
    {
      "cell_type": "code",
      "metadata": {
        "colab_type": "code",
        "id": "sdgTFcoQQcWa",
        "outputId": "8f689824-7b57-468a-b26a-6dceb37442e4",
        "colab": {
          "base_uri": "https://localhost:8080/",
          "height": 50
        }
      },
      "source": [
        "print(train_data_file)\n",
        "print(test_data_file)"
      ],
      "execution_count": 28,
      "outputs": [
        {
          "output_type": "stream",
          "text": [
            "/content/sample_data/toutiao_train_ft_chars.txt\n",
            "/content/sample_data/toutiao_test_ft_chars.txt\n"
          ],
          "name": "stdout"
        }
      ]
    },
    {
      "cell_type": "code",
      "metadata": {
        "colab_type": "code",
        "id": "3ylGu6ieQcnK",
        "outputId": "5a2cdefa-8a5b-4b26-8afb-61a34ccdb19f",
        "colab": {
          "base_uri": "https://localhost:8080/",
          "height": 70
        }
      },
      "source": [
        "! head -2 /content/sample_data/toutiao_train_ft_chars.txt"
      ],
      "execution_count": 29,
      "outputs": [
        {
          "output_type": "stream",
          "text": [
            "__label__news_finance\t股票 中 的 突破 形态 股票\n",
            "__label__news_entertainment\t他 是 最帅 的 古装 男神 ， 10 国 语言 六门 武术 ， 演技 在线 却常演 配角 ！ 三生 三世 十里 桃花 , 张智尧 , 杨门 女将 之 女儿 当自强 , 陆小凤 , 印象 深刻 , 陆小凤 传奇 , 杨宗保 , 花满楼 , 古剑 奇谭\n"
          ],
          "name": "stdout"
        }
      ]
    },
    {
      "cell_type": "code",
      "metadata": {
        "colab_type": "code",
        "id": "7RFjrBPNSPaz",
        "colab": {
          "base_uri": "https://localhost:8080/",
          "height": 50
        },
        "outputId": "abe0f1ee-7651-48f1-f47a-981434109f90"
      },
      "source": [
        "! head -2 /content/sample_data/toutiao_test_ft_chars.txt"
      ],
      "execution_count": 30,
      "outputs": [
        {
          "output_type": "stream",
          "text": [
            "__label__news_military\t歼 20 座 舱盖 上 的 两条 “ 花纹 ” 是 什么 ？\n",
            "__label__news_edu\t2018 年 2 月 退休 教师 ， 教龄 38 年 ， 退休金 是 多少 ？\n"
          ],
          "name": "stdout"
        }
      ]
    },
    {
      "cell_type": "markdown",
      "metadata": {
        "id": "OaKiumTocmze",
        "colab_type": "text"
      },
      "source": [
        "模型训练"
      ]
    },
    {
      "cell_type": "code",
      "metadata": {
        "colab_type": "code",
        "id": "URlVXaDkTFsZ",
        "colab": {
          "base_uri": "https://localhost:8080/",
          "height": 34
        },
        "outputId": "53a8f40c-f62c-49b7-8b70-545363c16370"
      },
      "source": [
        "import fasttext\n",
        "# 日志初始化\n",
        "import logging\n",
        "logging.basicConfig(format='%(asctime)s : %(levelname)s : %(message)s', level=logging.INFO)\n",
        "logging.info('logging test')"
      ],
      "execution_count": 4,
      "outputs": [
        {
          "output_type": "stream",
          "text": [
            "2019-11-01 15:14:13,387 : INFO : logging test\n"
          ],
          "name": "stderr"
        }
      ]
    },
    {
      "cell_type": "code",
      "metadata": {
        "colab_type": "code",
        "id": "NceS753UT27V",
        "colab": {}
      },
      "source": [
        "def print_results(N, p, r):\n",
        "    print(\"N\\t\" + str(N))\n",
        "    print(\"P@{}\\t{:.3f}\".format(1, p))\n",
        "    print(\"R@{}\\t{:.3f}\".format(1, r))"
      ],
      "execution_count": 0,
      "outputs": []
    },
    {
      "cell_type": "code",
      "metadata": {
        "id": "HkgTShbzcmzm",
        "colab_type": "code",
        "colab": {
          "base_uri": "https://localhost:8080/",
          "height": 101
        },
        "outputId": "663f4fbc-2f3e-48dc-a61e-b1503c268860"
      },
      "source": [
        "# 默认参数\n",
        "logging.info('start training')\n",
        "model = fasttext.train_supervised(input=train_data_file)\n",
        "logging.info('end training')\n",
        "print_results(*model.test(test_data_file))"
      ],
      "execution_count": 10,
      "outputs": [
        {
          "output_type": "stream",
          "text": [
            "2019-11-01 15:15:01,422 : INFO : start training\n",
            "2019-11-01 15:15:35,504 : INFO : end training\n"
          ],
          "name": "stderr"
        },
        {
          "output_type": "stream",
          "text": [
            "N\t57404\n",
            "P@1\t0.901\n",
            "R@1\t0.901\n"
          ],
          "name": "stdout"
        }
      ]
    },
    {
      "cell_type": "code",
      "metadata": {
        "id": "1TdBLBlucmzp",
        "colab_type": "code",
        "colab": {
          "base_uri": "https://localhost:8080/",
          "height": 101
        },
        "outputId": "43126981-f044-477b-e4c1-5420390d23ec"
      },
      "source": [
        "# wordNgrams=2\n",
        "logging.info('start training')\n",
        "model = fasttext.train_supervised(input=train_data_file, wordNgrams=2)\n",
        "logging.info('end training')\n",
        "print_results(*model.test(test_data_file))"
      ],
      "execution_count": 32,
      "outputs": [
        {
          "output_type": "stream",
          "text": [
            "2019-11-01 15:03:52,944 : INFO : start training\n",
            "2019-11-01 15:04:53,291 : INFO : end training\n"
          ],
          "name": "stderr"
        },
        {
          "output_type": "stream",
          "text": [
            "N\t57404\n",
            "P@1\t0.907\n",
            "R@1\t0.907\n"
          ],
          "name": "stdout"
        }
      ]
    },
    {
      "cell_type": "code",
      "metadata": {
        "id": "2nuKK5_Ncmzs",
        "colab_type": "code",
        "colab": {
          "base_uri": "https://localhost:8080/",
          "height": 101
        },
        "outputId": "067023d8-4493-4fbf-aa0f-3b82dc05fda3"
      },
      "source": [
        "# wordNgrams=3\n",
        "logging.info('start training')\n",
        "model = fasttext.train_supervised(input=train_data_file, wordNgrams=3)\n",
        "logging.info('end training')\n",
        "print_results(*model.test(test_data_file))"
      ],
      "execution_count": 33,
      "outputs": [
        {
          "output_type": "stream",
          "text": [
            "2019-11-01 15:04:58,672 : INFO : start training\n",
            "2019-11-01 15:06:23,094 : INFO : end training\n"
          ],
          "name": "stderr"
        },
        {
          "output_type": "stream",
          "text": [
            "N\t57404\n",
            "P@1\t0.905\n",
            "R@1\t0.905\n"
          ],
          "name": "stdout"
        }
      ]
    },
    {
      "cell_type": "markdown",
      "metadata": {
        "colab_type": "text",
        "id": "5J0TFTDFUkvz"
      },
      "source": [
        "## 单字特征\n",
        "\n",
        "- 默认参数\n",
        "~~~\n",
        "N\t57404\n",
        "P@1\t0.859\n",
        "R@1\t0.859\n",
        "~~~\n",
        "- wordNgrams=2\n",
        "~~~\n",
        "N\t57404\n",
        "P@1\t0.903\n",
        "R@1\t0.903\n",
        "~~~\n",
        "\n",
        "- wordNgrams=2\n",
        "~~~\n",
        "N\t57404\n",
        "P@1\t0.906\n",
        "R@1\t0.906\n",
        "~~~"
      ]
    },
    {
      "cell_type": "markdown",
      "metadata": {
        "id": "ebz7VQjsecw5",
        "colab_type": "text"
      },
      "source": [
        "## jieba分词特征\n",
        "\n",
        "- 默认参数\n",
        "~~~\n",
        "N\t57404\n",
        "P@1\t0.901\n",
        "R@1\t0.901\n",
        "~~~\n",
        "- wordNgrams=2\n",
        "~~~\n",
        "N\t57404\n",
        "P@1\t0.907\n",
        "R@1\t0.907\n",
        "~~~\n",
        "\n",
        "- wordNgrams=2\n",
        "~~~\n",
        "N\t57404\n",
        "P@1\t0.905\n",
        "R@1\t0.905\n",
        "~~~"
      ]
    },
    {
      "cell_type": "markdown",
      "metadata": {
        "id": "wWk04EVLcmzv",
        "colab_type": "text"
      },
      "source": [
        "模型测试与保存"
      ]
    },
    {
      "cell_type": "code",
      "metadata": {
        "colab_type": "code",
        "id": "sHlYBk8BXz7a",
        "outputId": "8f4f4b53-2b9b-446a-8f5d-41e240c5bffb",
        "colab": {
          "base_uri": "https://localhost:8080/",
          "height": 34
        }
      },
      "source": [
        "# 预测测试\n",
        "model.predict(' '.join(list(\"一起看周杰伦的演唱会\")))"
      ],
      "execution_count": 34,
      "outputs": [
        {
          "output_type": "execute_result",
          "data": {
            "text/plain": [
              "(('__label__news_entertainment',), array([0.97608125]))"
            ]
          },
          "metadata": {
            "tags": []
          },
          "execution_count": 34
        }
      ]
    },
    {
      "cell_type": "code",
      "metadata": {
        "colab_type": "code",
        "id": "4XvjChZWTgAP",
        "colab": {}
      },
      "source": [
        "# 模型保存\n",
        "model.save_model(\"/content/sample_data/toutiao_ft.ftbin\")"
      ],
      "execution_count": 0,
      "outputs": []
    },
    {
      "cell_type": "code",
      "metadata": {
        "id": "VJT7mCmmgZBk",
        "colab_type": "code",
        "colab": {
          "base_uri": "https://localhost:8080/",
          "height": 101
        },
        "outputId": "d829bbf5-138c-4782-a37a-4b743ccd92d4"
      },
      "source": [
        "# 模型压缩\n",
        "# with the previously trained `model` object, call :\n",
        "logging.info('start training')\n",
        "model.quantize(train_data_file, retrain=True)\n",
        "logging.info('end training')\n",
        "# then display results and save the new model :\n",
        "print_results(*model.test(test_data_file))"
      ],
      "execution_count": 11,
      "outputs": [
        {
          "output_type": "stream",
          "text": [
            "2019-11-01 15:15:43,975 : INFO : start training\n",
            "2019-11-01 15:17:13,339 : INFO : end training\n"
          ],
          "name": "stderr"
        },
        {
          "output_type": "stream",
          "text": [
            "N\t57404\n",
            "P@1\t0.900\n",
            "R@1\t0.900\n"
          ],
          "name": "stdout"
        }
      ]
    },
    {
      "cell_type": "code",
      "metadata": {
        "id": "CQEpzinhhDQy",
        "colab_type": "code",
        "colab": {}
      },
      "source": [
        "model.save_model(\"/content/sample_data/model_filename.ftz\")"
      ],
      "execution_count": 0,
      "outputs": []
    },
    {
      "cell_type": "code",
      "metadata": {
        "id": "qjNY8X7ghFs0",
        "colab_type": "code",
        "colab": {
          "base_uri": "https://localhost:8080/",
          "height": 202
        },
        "outputId": "ee17c3e2-6792-4b51-ff9a-ff19cecd0aab"
      },
      "source": [
        "! ls -lh /content/sample_data/"
      ],
      "execution_count": 13,
      "outputs": [
        {
          "output_type": "stream",
          "text": [
            "total 977M\n",
            "-rwxr-xr-x 1 root root 1.7K Jan  1  2000 anscombe.json\n",
            "-rw-r--r-- 1 root root 295K Oct 25 16:58 california_housing_test.csv\n",
            "-rw-r--r-- 1 root root 1.7M Oct 25 16:58 california_housing_train.csv\n",
            "-rw-r--r-- 1 root root  18M Oct 25 16:58 mnist_test.csv\n",
            "-rw-r--r-- 1 root root  35M Oct 25 16:58 mnist_train_small.csv\n",
            "-rw-r--r-- 1 root root  15M Nov  1 15:17 model_filename.ftz\n",
            "-rwxr-xr-x 1 root root  930 Jan  1  2000 README.md\n",
            "-rw-r--r-- 1 root root 855M Nov  1 15:08 toutiao_ft.ftbin\n",
            "-rw-r--r-- 1 root root 8.0M Nov  1 15:03 toutiao_test_ft_chars.txt\n",
            "-rw-r--r-- 1 root root  46M Nov  1 15:03 toutiao_train_ft_chars.txt\n"
          ],
          "name": "stdout"
        }
      ]
    },
    {
      "cell_type": "markdown",
      "metadata": {
        "id": "0GG6n92JilF0",
        "colab_type": "text"
      },
      "source": [
        "可以看出：模型由原来的855M，压缩至15M，而评分基本没变"
      ]
    }
  ]
}